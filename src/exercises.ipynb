{
 "cells": [
  {
   "cell_type": "markdown",
   "metadata": {},
   "source": [
    "1) Um conjunto de dados é dado como: 3, 7, 8, 5, 12, 14, 21, 13, 18.\n",
    "\n",
    "- a) Calcule a media\n",
    "- b) Calcule a mediana"
   ]
  },
  {
   "cell_type": "code",
   "execution_count": 1,
   "metadata": {},
   "outputs": [
    {
     "name": "stdout",
     "output_type": "stream",
     "text": [
      "A média é: 11.222222222222221\n"
     ]
    }
   ],
   "source": [
    "# Lista de números fornecidos\n",
    "numeros = [3, 7, 8, 5, 12, 14, 21, 13, 18]\n",
    "\n",
    "# Calculando a média\n",
    "media = sum(numeros) / len(numeros)\n",
    "\n",
    "# Exibindo a média\n",
    "print(\"A média é:\", media)"
   ]
  },
  {
   "cell_type": "code",
   "execution_count": 2,
   "metadata": {},
   "outputs": [
    {
     "name": "stdout",
     "output_type": "stream",
     "text": [
      "A mediana é: 12\n"
     ]
    }
   ],
   "source": [
    "# Lista de números fornecidos\n",
    "numeros = [3, 7, 8, 5, 12, 14, 21, 13, 18]\n",
    "\n",
    "# Calculando a mediana\n",
    "numeros_ordenados = sorted(numeros)\n",
    "n = len(numeros_ordenados)\n",
    "\n",
    "# Verificando se a quantidade de números é par ou ímpar\n",
    "if n % 2 == 0:\n",
    "    mediana = (numeros_ordenados[n//2 - 1] + numeros_ordenados[n//2]) / 2\n",
    "else:\n",
    "    mediana = numeros_ordenados[n//2]\n",
    "\n",
    "print(\"A mediana é:\", mediana)\n"
   ]
  },
  {
   "cell_type": "markdown",
   "metadata": {},
   "source": [
    "2) usando o conjunto de dados: 3, 7, 8, 5, 12, 14, 21, 13, 18.\n",
    "\n",
    "- a) Calcule a variåncia.\n",
    "- b) Calcule o desvio padräo."
   ]
  },
  {
   "cell_type": "code",
   "execution_count": 3,
   "metadata": {},
   "outputs": [
    {
     "name": "stdout",
     "output_type": "stream",
     "text": [
      "A variância é: 31.950617283950617\n"
     ]
    }
   ],
   "source": [
    "# Lista de números fornecidos\n",
    "numeros = [3, 7, 8, 5, 12, 14, 21, 13, 18]\n",
    "\n",
    "# Calculando a média\n",
    "media = sum(numeros) / len(numeros)\n",
    "\n",
    "# Calculando a variância\n",
    "variancia = sum((x - media) ** 2 for x in numeros) / len(numeros)\n",
    "\n",
    "print(\"A variância é:\", variancia)"
   ]
  },
  {
   "cell_type": "code",
   "execution_count": 4,
   "metadata": {},
   "outputs": [
    {
     "name": "stdout",
     "output_type": "stream",
     "text": [
      "O desvio padrão é: 5.652487707545291\n"
     ]
    }
   ],
   "source": [
    "import math\n",
    "\n",
    "# Lista de números fornecidos\n",
    "numeros = [3, 7, 8, 5, 12, 14, 21, 13, 18]\n",
    "\n",
    "# Calculando a média\n",
    "media = sum(numeros) / len(numeros)\n",
    "\n",
    "# Calculando a variância\n",
    "variancia = sum((x - media) ** 2 for x in numeros) / len(numeros)\n",
    "\n",
    "# Calculando o desvio padrão\n",
    "desvio_padrao = math.sqrt(variancia)\n",
    "\n",
    "print(\"O desvio padrão é:\", desvio_padrao)"
   ]
  },
  {
   "cell_type": "markdown",
   "metadata": {},
   "source": [
    "3) Determine a média, a mediana e a moda para cada um dos conjuntos de dados abaixo.\n",
    "\n",
    "- a. 51, 4, 34, 78, 65, 90, 106\n",
    "- b. 95, 45, 32, 67, 89, 34, 12, 97, 45\n",
    "- c. 1, 1, 1, 1, 2, 2, 3, 4, 4, 4, 4, 5, 5, 5, 5\n",
    "- d. 7, 7, 7, 7, 7, 7, 7"
   ]
  },
  {
   "cell_type": "code",
   "execution_count": 5,
   "metadata": {},
   "outputs": [
    {
     "name": "stdout",
     "output_type": "stream",
     "text": [
      "Conjunto a:\n",
      "Média: 61.142857142857146\n",
      "Mediana: 65\n",
      "Moda: 51\n",
      "\n",
      "Conjunto b:\n",
      "Média: 57.333333333333336\n",
      "Mediana: 45\n",
      "Moda: 45\n",
      "\n",
      "Conjunto c:\n",
      "Média: 3.1333333333333333\n",
      "Mediana: 4\n",
      "Moda: 1\n",
      "\n",
      "Conjunto d:\n",
      "Média: 7\n",
      "Mediana: 7\n",
      "Moda: 7\n"
     ]
    }
   ],
   "source": [
    "import statistics\n",
    "\n",
    "# Conjunto de dados\n",
    "dados_a = [51, 4, 34, 78, 65, 90, 106]\n",
    "dados_b = [95, 45, 32, 67, 89, 34, 12, 97, 45]\n",
    "dados_c = [1, 1, 1, 1, 2, 2, 3, 4, 4, 4, 4, 5, 5, 5, 5]\n",
    "dados_d = [7, 7, 7, 7, 7, 7, 7]\n",
    "\n",
    "# Função para calcular média, mediana e moda\n",
    "def calcular_estatisticas(dados):\n",
    "    media = statistics.mean(dados)\n",
    "    mediana = statistics.median(dados)\n",
    "    try:\n",
    "        moda = statistics.mode(dados)\n",
    "    except statistics.StatisticsError:\n",
    "        moda = \"Não há uma moda única\"\n",
    "    return media, mediana, moda\n",
    "\n",
    "# Calculando para cada conjunto\n",
    "resultados_a = calcular_estatisticas(dados_a)\n",
    "resultados_b = calcular_estatisticas(dados_b)\n",
    "resultados_c = calcular_estatisticas(dados_c)\n",
    "resultados_d = calcular_estatisticas(dados_d)\n",
    "\n",
    "# Exibindo os resultados\n",
    "print(\"Conjunto a:\")\n",
    "print(\"Média:\", resultados_a[0])\n",
    "print(\"Mediana:\", resultados_a[1])\n",
    "print(\"Moda:\", resultados_a[2])\n",
    "\n",
    "print(\"\\nConjunto b:\")\n",
    "print(\"Média:\", resultados_b[0])\n",
    "print(\"Mediana:\", resultados_b[1])\n",
    "print(\"Moda:\", resultados_b[2])\n",
    "\n",
    "print(\"\\nConjunto c:\")\n",
    "print(\"Média:\", resultados_c[0])\n",
    "print(\"Mediana:\", resultados_c[1])\n",
    "print(\"Moda:\", resultados_c[2])\n",
    "\n",
    "print(\"\\nConjunto d:\")\n",
    "print(\"Média:\", resultados_d[0])\n",
    "print(\"Mediana:\", resultados_d[1])\n",
    "print(\"Moda:\", resultados_d[2])"
   ]
  },
  {
   "cell_type": "markdown",
   "metadata": {},
   "source": [
    "4) Em cada item a seguir, classifique as variáveis em quantitativa (discreta ou contínua)\n",
    "ou qualitativa (ordinais ou nominais):\n",
    "\n",
    "- a) Classificação das colunas de um jornal, por seu editor, como excelentes, boas ou\n",
    "ruins.\n",
    "- b) Grau de escolaridade dos governantes dos estados brasileiros.\n",
    "- c) Vendas anuais de uma empresa do setor de telefonia celular.\n",
    "- d) Marcas de desodorante.\n",
    "- e) Tamanhos de roupa expressos em P, M e G.\n",
    "- f) Número de livros da biblioteca de uma escola.\n",
    "- g) Número de lojas da cidade de Ilhéus, na Bahia."
   ]
  },
  {
   "cell_type": "markdown",
   "metadata": {},
   "source": [
    "Vamos classificar as variáveis fornecidas nos itens a seguir de acordo com seu tipo:\n",
    "\n",
    "#### a) Classificação das colunas de um jornal, por seu editor, como excelentes, boas ou ruins.\n",
    "- **Qualitativa Ordinal**\n",
    "  - Explicação: As categorias (excelentes, boas, ruins) possuem uma ordem implícita de qualidade.\n",
    "\n",
    "#### b) Grau de escolaridade dos governantes dos estados brasileiros.\n",
    "- **Qualitativa Ordinal**\n",
    "  - Explicação: O grau de escolaridade pode ser ordenado (fundamental, médio, superior, etc.).\n",
    "\n",
    "#### c) Vendas anuais de uma empresa do setor de telefonia celular.\n",
    "- **Quantitativa Contínua**\n",
    "  - Explicação: As vendas anuais são medidas em unidades monetárias, que podem assumir qualquer valor dentro de um intervalo contínuo.\n",
    "\n",
    "#### d) Marcas de desodorante.\n",
    "- **Qualitativa Nominal**\n",
    "  - Explicação: Marcas de desodorante são categorias que não possuem uma ordem implícita.\n",
    "\n",
    "#### e) Tamanhos de roupa expressos em P, M e G.\n",
    "- **Qualitativa Ordinal**\n",
    "  - Explicação: Os tamanhos de roupa (P, M, G) têm uma ordem implícita de tamanho.\n",
    "\n",
    "#### f) Número de livros da biblioteca de uma escola.\n",
    "- **Quantitativa Discreta**\n",
    "  - Explicação: O número de livros é contado em unidades inteiras e não assume valores fracionários.\n",
    "\n",
    "#### g) Número de lojas da cidade de Ilhéus, na Bahia.\n",
    "- **Quantitativa Discreta**\n",
    "  - Explicação: O número de lojas é contado em unidades inteiras e não assume valores fracionários."
   ]
  },
  {
   "cell_type": "markdown",
   "metadata": {},
   "source": [
    "### 5) Identifique as variåveis qualitativas e as variåveis quantitativas (continuas ou discretas).\n",
    "\n",
    "| Nome  | Sexo | Salário | Grau de Escolaridade | Tempo de Serviço |\n",
    "|-------|------|---------|----------------------|------------------|\n",
    "| Keila |   F   | 1.350   | Ensino médio         | 2 anos           |\n",
    "| Carla |   F  |  1.000       | Ensino médio         | 3,5 anos         |\n",
    "| Marco |    M  |  2.500       | Universitário        | 2 anos           |\n",
    "| Alex  |   M   |  2.000       | Universitário        | 5 anos           |\n",
    "| Bia   |   F   |   3.100      | Especialização       | 8 anos           |\n",
    "\n",
    "Variáveis qualitativas:\n",
    "\n",
    "- Nome (nomes das pessoas)\n",
    "- Sexo\n",
    "\n",
    "Variáveis quantitativas:\n",
    "\n",
    "- Salário (contínua, pois pode assumir valores em uma faixa contínua de números)\n",
    "- Tempo de Serviço (discreta, pois representa um número finito de anos)"
   ]
  },
  {
   "cell_type": "markdown",
   "metadata": {},
   "source": [
    "### 6) Apresente por meio de um gráfico os dados obtidos na pesquisa que Rui fez em sua classe."
   ]
  },
  {
   "cell_type": "code",
   "execution_count": 6,
   "metadata": {},
   "outputs": [
    {
     "data": {
      "image/png": "[encoded data removed]",
      "text/plain": [
       "<Figure size 800x600 with 1 Axes>"
      ]
     },
     "metadata": {},
     "output_type": "display_data"
    }
   ],
   "source": [
    "import matplotlib.pyplot as plt\n",
    "\n",
    "# Dados\n",
    "atividades = ['Samba', 'Rock', 'Axe']\n",
    "porcentagens = [25, 50, 25]  # Porcentagens de cada atividade\n",
    "\n",
    "# Cores para as fatias\n",
    "cores = ['lightcoral', 'lightskyblue', 'lightgreen']\n",
    "\n",
    "# Criar gráfico de pizza\n",
    "plt.figure(figsize=(8, 6))\n",
    "plt.pie(porcentagens, labels=atividades, colors=cores, autopct='%1.1f%%', startangle=140)\n",
    "\n",
    "# Adicionar título\n",
    "plt.title('Porcentagem de Atividades Musicais')\n",
    "\n",
    "# Exibir gráfico\n",
    "plt.axis('equal')\n",
    "plt.show()\n"
   ]
  },
  {
   "cell_type": "markdown",
   "metadata": {},
   "source": [
    "### 7) A agência de turismo Nova pesquisou a preferência do meio de transporte para uma viagem turística.\n",
    "\n",
    "- a) Que tipo de gráfico é esse?\n",
    "- b) A que assunto se refere?\n",
    "- c) Segundo os dados da pesquisa, qual é o meio de transporte preferido para uma viagem turística?\n",
    "- d) Determine as medidas aproximadas dos ângulos centrais dos setores correspondentes às porcentagens. (use 360 graus para o gráfico)\n",
    "\n",
    "---\n",
    "\n",
    "- a) Gráfico de pizza.\n",
    "- b) Refere-se ao meio de transporte preferido para fazer viagens turísticas.\n",
    "- c) Rodoviário.\n",
    "- d) \n",
    "\n",
    "360 * 0, 63 = 222, 8\\\n",
    "360 * 0, 24 = 86, 4\\\n",
    "360 * 0, 63 = 46, 8\n"
   ]
  },
  {
   "cell_type": "markdown",
   "metadata": {},
   "source": [
    "### 8) Durante determinada hora do dia, Amanda fez cinco ligações de seu aparelho celular, pertencente à operadora “trim”. O tempo, em minutos, gasto em cada ligação está relacionado ao lado.\n",
    "\n",
    "Em relação a essas ligações de Amanda determine:\n",
    "- a) o tempo médio de duração das ligações realizadas.\n",
    "- b) o tempo mediano de duração dessas ligações.\n",
    "- c) o tempo modal de duração das ligações.\n",
    "- d) Sabendo que o valor da tarifa por minuto de ligação na operadora “trim” é de R$ 1,05, calcular o gasto médio por ligação.\n",
    "---\n",
    "- a) 2+5+5+10+14/5 = 7,2 minutos\n",
    "- b) 5 minutos\n",
    "- c) 5 minutos\n",
    "- d) 7, 2 * 1, 05 = 𝑅$ 7, 56"
   ]
  }
 ],
 "metadata": {
  "kernelspec": {
   "display_name": "Python 3",
   "language": "python",
   "name": "python3"
  },
  "language_info": {
   "codemirror_mode": {
    "name": "ipython",
    "version": 3
   },
   "file_extension": ".py",
   "mimetype": "text/x-python",
   "name": "python",
   "nbconvert_exporter": "python",
   "pygments_lexer": "ipython3",
   "version": "3.11.9"
  }
 },
 "nbformat": 4,
 "nbformat_minor": 2
}
